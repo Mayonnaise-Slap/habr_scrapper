{
 "cells": [
  {
   "cell_type": "code",
   "outputs": [],
   "source": [
    "import requests\n",
    "from bs4 import BeautifulSoup\n",
    "import re\n",
    "import pandas as pd"
   ],
   "metadata": {
    "collapsed": false,
    "ExecuteTime": {
     "end_time": "2024-01-26T09:14:45.105218Z",
     "start_time": "2024-01-26T09:14:44.490915Z"
    }
   },
   "id": "a4bf87ed01025644",
   "execution_count": 1
  },
  {
   "cell_type": "code",
   "execution_count": 2,
   "id": "initial_id",
   "metadata": {
    "collapsed": true,
    "ExecuteTime": {
     "end_time": "2024-01-26T09:14:45.110089Z",
     "start_time": "2024-01-26T09:14:45.107197Z"
    }
   },
   "outputs": [],
   "source": [
    "def get_page_html(link: str) -> requests.Response:\n",
    "    r = requests.get(link)\n",
    "    if r.status_code != 200:\n",
    "        raise Exception(\"banned\")\n",
    "    return r\n",
    "\n",
    "\n",
    "def get_soup(n_page: int) -> BeautifulSoup:\n",
    "    link = r\"https://habr.com/ru/articles/top/daily/page{}/\"\n",
    "    return BeautifulSoup(get_page_html(link.format(n_page)).text, \"html.parser\")\n",
    "\n",
    "def get_headings(soup: BeautifulSoup) -> list[list[str, int, int]]:\n",
    "    headings = []\n",
    "    for article in soup.find_all(\"article\"):\n",
    "        score_index = 2\n",
    "        \n",
    "        heading = article.find_all(\"span\")[2].text\n",
    "        attrs = article.find_all(\"title\")\n",
    "        if len(attrs) == 6:\n",
    "            score_index += 1\n",
    "        rez = re.findall(r\"[-+]?(?:\\d*\\.*\\d+)\", attrs[score_index].text)[1:]\n",
    "        rez.insert(0, heading)\n",
    "        headings.append(rez)\n",
    "    return headings"
   ]
  },
  {
   "cell_type": "code",
   "outputs": [],
   "source": [
    "a = get_headings(get_soup(1))"
   ],
   "metadata": {
    "collapsed": false,
    "ExecuteTime": {
     "end_time": "2024-01-25T17:13:05.321335Z",
     "start_time": "2024-01-25T17:13:04.788945Z"
    }
   },
   "id": "adac10ae6eca8bbc",
   "execution_count": 203
  },
  {
   "cell_type": "code",
   "outputs": [
    {
     "data": {
      "text/plain": "                                                    0     1    2\n0   Почему эффективной сове не выгодно нанимать да...    60    7\n1   Сам написал, сам поиграл: как работали трёхмер...    45    1\n2                          Как я изобретал клавиатуру    38    0\n3   Мануальные объективы на цифровых камерах: хоро...    34    0\n4            Пишем трассировщик лучей для ZX Spectrum    33    1\n5   Что находится внутри физического Архива Интернета    31    0\n6   10 самых распространенных проблем при линтинге...    27    0\n7   Испытания 5 отечественных аккумуляторов в корп...  25.5  0.5\n8   НАСА подтверждает, что 2023 год был самым жарк...    24    2\n9   Разговор с Максимом Горшениным о мониторах «Ла...    24    3\n10  Обзор подходов к проблеме шероховатости фольги...    15    0\n11  Старая ошибка Unix, которую вы можете совершит...    15    0\n12     Рыцарь-демон, Intel Xeon Phi в 2024-м, часть 0    14    0\n13  Действительно ли C++ — лучший язык, чтобы выст...    14    2\n14  Ветер и кольца: об экзотических звёздных класс...    13    1\n15       RJE: распределенные вычисления эпохи мезозоя    12    0\n16           Excel vs Grafana: Автоматизация дежурств    11    0\n17  Как мы с помощью ML вылечили проблему, не дава...     9    0\n18                               Игры для ESPspectrum     9    0\n19  Agile не поможет. Ищем решения острых проблем ...    12    3",
      "text/html": "<div>\n<style scoped>\n    .dataframe tbody tr th:only-of-type {\n        vertical-align: middle;\n    }\n\n    .dataframe tbody tr th {\n        vertical-align: top;\n    }\n\n    .dataframe thead th {\n        text-align: right;\n    }\n</style>\n<table border=\"1\" class=\"dataframe\">\n  <thead>\n    <tr style=\"text-align: right;\">\n      <th></th>\n      <th>0</th>\n      <th>1</th>\n      <th>2</th>\n    </tr>\n  </thead>\n  <tbody>\n    <tr>\n      <th>0</th>\n      <td>Почему эффективной сове не выгодно нанимать да...</td>\n      <td>60</td>\n      <td>7</td>\n    </tr>\n    <tr>\n      <th>1</th>\n      <td>Сам написал, сам поиграл: как работали трёхмер...</td>\n      <td>45</td>\n      <td>1</td>\n    </tr>\n    <tr>\n      <th>2</th>\n      <td>Как я изобретал клавиатуру</td>\n      <td>38</td>\n      <td>0</td>\n    </tr>\n    <tr>\n      <th>3</th>\n      <td>Мануальные объективы на цифровых камерах: хоро...</td>\n      <td>34</td>\n      <td>0</td>\n    </tr>\n    <tr>\n      <th>4</th>\n      <td>Пишем трассировщик лучей для ZX Spectrum</td>\n      <td>33</td>\n      <td>1</td>\n    </tr>\n    <tr>\n      <th>5</th>\n      <td>Что находится внутри физического Архива Интернета</td>\n      <td>31</td>\n      <td>0</td>\n    </tr>\n    <tr>\n      <th>6</th>\n      <td>10 самых распространенных проблем при линтинге...</td>\n      <td>27</td>\n      <td>0</td>\n    </tr>\n    <tr>\n      <th>7</th>\n      <td>Испытания 5 отечественных аккумуляторов в корп...</td>\n      <td>25.5</td>\n      <td>0.5</td>\n    </tr>\n    <tr>\n      <th>8</th>\n      <td>НАСА подтверждает, что 2023 год был самым жарк...</td>\n      <td>24</td>\n      <td>2</td>\n    </tr>\n    <tr>\n      <th>9</th>\n      <td>Разговор с Максимом Горшениным о мониторах «Ла...</td>\n      <td>24</td>\n      <td>3</td>\n    </tr>\n    <tr>\n      <th>10</th>\n      <td>Обзор подходов к проблеме шероховатости фольги...</td>\n      <td>15</td>\n      <td>0</td>\n    </tr>\n    <tr>\n      <th>11</th>\n      <td>Старая ошибка Unix, которую вы можете совершит...</td>\n      <td>15</td>\n      <td>0</td>\n    </tr>\n    <tr>\n      <th>12</th>\n      <td>Рыцарь-демон, Intel Xeon Phi в 2024-м, часть 0</td>\n      <td>14</td>\n      <td>0</td>\n    </tr>\n    <tr>\n      <th>13</th>\n      <td>Действительно ли C++ — лучший язык, чтобы выст...</td>\n      <td>14</td>\n      <td>2</td>\n    </tr>\n    <tr>\n      <th>14</th>\n      <td>Ветер и кольца: об экзотических звёздных класс...</td>\n      <td>13</td>\n      <td>1</td>\n    </tr>\n    <tr>\n      <th>15</th>\n      <td>RJE: распределенные вычисления эпохи мезозоя</td>\n      <td>12</td>\n      <td>0</td>\n    </tr>\n    <tr>\n      <th>16</th>\n      <td>Excel vs Grafana: Автоматизация дежурств</td>\n      <td>11</td>\n      <td>0</td>\n    </tr>\n    <tr>\n      <th>17</th>\n      <td>Как мы с помощью ML вылечили проблему, не дава...</td>\n      <td>9</td>\n      <td>0</td>\n    </tr>\n    <tr>\n      <th>18</th>\n      <td>Игры для ESPspectrum</td>\n      <td>9</td>\n      <td>0</td>\n    </tr>\n    <tr>\n      <th>19</th>\n      <td>Agile не поможет. Ищем решения острых проблем ...</td>\n      <td>12</td>\n      <td>3</td>\n    </tr>\n  </tbody>\n</table>\n</div>"
     },
     "execution_count": 204,
     "metadata": {},
     "output_type": "execute_result"
    }
   ],
   "source": [
    "pd.DataFrame(a)"
   ],
   "metadata": {
    "collapsed": false,
    "ExecuteTime": {
     "end_time": "2024-01-25T17:13:05.326206Z",
     "start_time": "2024-01-25T17:13:05.323885Z"
    }
   },
   "id": "b1e96f4be8ed6d2d",
   "execution_count": 204
  },
  {
   "cell_type": "code",
   "outputs": [],
   "source": [
    "strange = get_soup(1).find_all(\"article\")"
   ],
   "metadata": {
    "collapsed": false,
    "ExecuteTime": {
     "end_time": "2024-01-26T09:14:49.160657Z",
     "start_time": "2024-01-26T09:14:48.692556Z"
    }
   },
   "id": "6612435d95738fe6",
   "execution_count": 3
  },
  {
   "cell_type": "code",
   "outputs": [],
   "source": [
    "s = strange[7].find_all(\"title\")[3].text"
   ],
   "metadata": {
    "collapsed": false,
    "ExecuteTime": {
     "end_time": "2024-01-25T17:12:23.138465Z",
     "start_time": "2024-01-25T17:12:23.136753Z"
    }
   },
   "id": "7e219ecf70fd9a01",
   "execution_count": 197
  },
  {
   "cell_type": "code",
   "outputs": [
    {
     "data": {
      "text/plain": "['26', '25.5', '0.5']"
     },
     "execution_count": 201,
     "metadata": {},
     "output_type": "execute_result"
    }
   ],
   "source": [
    "re.findall(r\"[-+]?(?:\\d*\\.*\\d+)\", s)"
   ],
   "metadata": {
    "collapsed": false,
    "ExecuteTime": {
     "end_time": "2024-01-25T17:12:53.727681Z",
     "start_time": "2024-01-25T17:12:53.725442Z"
    }
   },
   "id": "a43a9ecee169bd95",
   "execution_count": 201
  },
  {
   "cell_type": "code",
   "outputs": [
    {
     "data": {
      "text/plain": "'/ru/articles/788984/'"
     },
     "execution_count": 10,
     "metadata": {},
     "output_type": "execute_result"
    }
   ],
   "source": [
    "strange[0].find_all(\"a\")[2][\"href\"]"
   ],
   "metadata": {
    "collapsed": false,
    "ExecuteTime": {
     "end_time": "2024-01-26T09:15:20.329143Z",
     "start_time": "2024-01-26T09:15:20.325180Z"
    }
   },
   "id": "e2b23c38ac84b529",
   "execution_count": 10
  },
  {
   "cell_type": "code",
   "outputs": [],
   "source": [],
   "metadata": {
    "collapsed": false
   },
   "id": "4f95df56e6c9a0ab"
  }
 ],
 "metadata": {
  "kernelspec": {
   "display_name": "Python 3",
   "language": "python",
   "name": "python3"
  },
  "language_info": {
   "codemirror_mode": {
    "name": "ipython",
    "version": 2
   },
   "file_extension": ".py",
   "mimetype": "text/x-python",
   "name": "python",
   "nbconvert_exporter": "python",
   "pygments_lexer": "ipython2",
   "version": "2.7.6"
  }
 },
 "nbformat": 4,
 "nbformat_minor": 5
}
